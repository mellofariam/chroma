{
 "cells": [
  {
   "cell_type": "code",
   "execution_count": 106,
   "metadata": {},
   "outputs": [],
   "source": [
    "import matplotlib as mpl\n",
    "import matplotlib.pyplot as plt\n",
    "import seaborn as sns\n",
    "import numpy as np"
   ]
  },
  {
   "cell_type": "code",
   "execution_count": 98,
   "metadata": {},
   "outputs": [],
   "source": [
    "from matplotlib.colors import LinearSegmentedColormap\n",
    "\n",
    "\n",
    "def create_continuous_cmap():\n",
    "    # Define the colors for the colormap (blue, black, red)\n",
    "    colors = [\n",
    "        \"#570000\",\n",
    "        \"#CA7320\",\n",
    "        \"#ECFFA5\",\n",
    "        \"#369698\",\n",
    "        \"#002C2D\",\n",
    "    ]  # RGB values\n",
    "\n",
    "    # Create a list of positions for each color\n",
    "    positions = [0.0, 0.25, 0.5, 0.75, 1.0]\n",
    "\n",
    "    # Create the colormap using LinearSegmentedColormap\n",
    "    custom_cmap = LinearSegmentedColormap.from_list(\n",
    "        \"chromosomes\", list(zip(positions, colors)), N=23\n",
    "    )\n",
    "\n",
    "    return custom_cmap"
   ]
  },
  {
   "cell_type": "code",
   "execution_count": 99,
   "metadata": {},
   "outputs": [],
   "source": [
    "cmap = create_continuous_cmap()"
   ]
  },
  {
   "cell_type": "code",
   "execution_count": 100,
   "metadata": {},
   "outputs": [
    {
     "data": {
      "image/png": "[encoded data removed]",
      "text/html": [
       "<div style=\"vertical-align: middle;\"><strong>chromosomes</strong> </div><div class=\"cmap\"><img alt=\"chromosomes colormap\" title=\"chromosomes\" style=\"border: 1px solid #555;\" src=\"data:image/png;base64,iVBORw0KGgoAAAANSUhEUgAAAgAAAABACAYAAABsv8+/AAAAGnRFWHRUaXRsZQBjaHJvbW9zb21lcyBjb2xvcm1hcIa+25oAAAAgdEVYdERlc2NyaXB0aW9uAGNocm9tb3NvbWVzIGNvbG9ybWFwF6CfzAAAADB0RVh0QXV0aG9yAE1hdHBsb3RsaWIgdjMuOC4zLCBodHRwczovL21hdHBsb3RsaWIub3Jnqp5OHAAAADJ0RVh0U29mdHdhcmUATWF0cGxvdGxpYiB2My44LjMsIGh0dHBzOi8vbWF0cGxvdGxpYi5vcmeEONE7AAABhUlEQVR4nO3Wu01DURRE0QsSJoPEFtiN0b0pAL8QE/EJqOFIoL1WAaMJ983LWt9ryH5/N7J7OOzsDm8/PD2O7O5OzzO7x6Hdob9rzX2+Px1Hds+Xz5Hd1+1rZPd3+399ntp9295Hdq/bZWR3rbWul21md+jzdZv5+zG0u9Zat2PLAMCfJQAAIEgAAECQAACAIAEAAEECAACCBAAABAkAAAgSAAAQJAAAIEgAAECQAACAIAEAAEECAACCBAAABAkAAAgSAAAQJAAAIEgAAECQAACAIAEAAEECAACCBAAABAkAAAgSAAAQJAAAIEgAAECQAACAIAEAAEECAACCBAAABAkAAAgSAAAQJAAAIEgAAECQAACAIAEAAEECAACCBAAABAkAAAgSAAAQJAAAIEgAAECQAACAIAEAAEECAACCBAAABAkAAAgSAAAQJAAAIEgAAECQAACAIAEAAEECAACCBAAABAkAAAgSAAAQJAAAIEgAAECQAACAIAEAAEECAACCBAAABP0Afnoi2O9hiuMAAAAASUVORK5CYII=\"></div><div style=\"vertical-align: middle; max-width: 514px; display: flex; justify-content: space-between;\"><div style=\"float: left;\"><div title=\"#570000ff\" style=\"display: inline-block; width: 1em; height: 1em; margin: 0; vertical-align: middle; border: 1px solid #555; background-color: #570000ff;\"></div> under</div><div style=\"margin: 0 auto; display: inline-block;\">bad <div title=\"#00000000\" style=\"display: inline-block; width: 1em; height: 1em; margin: 0; vertical-align: middle; border: 1px solid #555; background-color: #00000000;\"></div></div><div style=\"float: right;\">over <div title=\"#002c2dff\" style=\"display: inline-block; width: 1em; height: 1em; margin: 0; vertical-align: middle; border: 1px solid #555; background-color: #002c2dff;\"></div></div>"
      ],
      "text/plain": [
       "<matplotlib.colors.LinearSegmentedColormap at 0x137714d90>"
      ]
     },
     "execution_count": 100,
     "metadata": {},
     "output_type": "execute_result"
    }
   ],
   "source": [
    "cmap"
   ]
  },
  {
   "cell_type": "code",
   "execution_count": 101,
   "metadata": {},
   "outputs": [],
   "source": [
    "chr_colors = []\n",
    "for color in range(23):\n",
    "    chr_colors.append(cmap.__call__(color))"
   ]
  },
  {
   "cell_type": "code",
   "execution_count": 102,
   "metadata": {},
   "outputs": [
    {
     "data": {
      "text/plain": [
       "[(0.3411764705882353, 0.0, 0.0, 1.0),\n",
       " (0.4231729055258467, 0.08199643493761141, 0.02281639928698752, 1.0),\n",
       " (0.5051693404634581, 0.16399286987522282, 0.04563279857397504, 1.0),\n",
       " (0.5871657754010695, 0.2459893048128342, 0.06844919786096255, 1.0),\n",
       " (0.669162210338681, 0.32798573975044565, 0.09126559714795009, 1.0),\n",
       " (0.7511586452762923, 0.40998217468805703, 0.1140819964349376, 1.0),\n",
       " (0.8042780748663101, 0.5008912655971479, 0.17290552584670232, 1.0),\n",
       " (0.8285204991087344, 0.6007130124777184, 0.2677361853832442, 1.0),\n",
       " (0.8527629233511587, 0.7005347593582888, 0.3625668449197861, 1.0),\n",
       " (0.8770053475935828, 0.8003565062388592, 0.457397504456328, 1.0),\n",
       " (0.9012477718360071, 0.9001782531194297, 0.5522281639928699, 1.0),\n",
       " (0.9254901960784314, 1.0, 0.6470588235294118, 1.0),\n",
       " (0.7957219251336899, 0.9251336898395722, 0.6377896613190731, 1.0),\n",
       " (0.6659536541889484, 0.8502673796791445, 0.6285204991087344, 1.0),\n",
       " (0.5361853832442068, 0.7754010695187166, 0.6192513368983957, 1.0),\n",
       " (0.406417112299465, 0.7005347593582887, 0.609982174688057, 1.0),\n",
       " (0.2766488413547238, 0.625668449197861, 0.6007130124777184, 1.0),\n",
       " (0.1925133689839572, 0.550445632798574, 0.5579322638146168, 1.0),\n",
       " (0.15401069518716579, 0.4748663101604278, 0.4816399286987523, 1.0),\n",
       " (0.11550802139037433, 0.39928698752228164, 0.40534759358288774, 1.0),\n",
       " (0.07700534759358288, 0.3237076648841355, 0.3290552584670232, 1.0),\n",
       " (0.038502673796791426, 0.2481283422459893, 0.25276292335115863, 1.0),\n",
       " (0.0, 0.17254901960784313, 0.17647058823529413, 1.0)]"
      ]
     },
     "execution_count": 102,
     "metadata": {},
     "output_type": "execute_result"
    }
   ],
   "source": [
    "chr_colors"
   ]
  },
  {
   "cell_type": "code",
   "execution_count": 103,
   "metadata": {},
   "outputs": [
    {
     "name": "stdout",
     "output_type": "stream",
     "text": [
      "color change rgb 9 0.341176 0.000000 0.000000\n",
      "color change rgb 10 0.423173 0.081996 0.022816\n",
      "color change rgb 11 0.505169 0.163993 0.045633\n",
      "color change rgb 12 0.587166 0.245989 0.068449\n",
      "color change rgb 13 0.669162 0.327986 0.091266\n",
      "color change rgb 14 0.751159 0.409982 0.114082\n",
      "color change rgb 15 0.804278 0.500891 0.172906\n",
      "color change rgb 16 0.828520 0.600713 0.267736\n",
      "color change rgb 17 0.852763 0.700535 0.362567\n",
      "color change rgb 18 0.877005 0.800357 0.457398\n",
      "color change rgb 19 0.901248 0.900178 0.552228\n",
      "color change rgb 20 0.925490 1.000000 0.647059\n",
      "color change rgb 21 0.795722 0.925134 0.637790\n",
      "color change rgb 22 0.665954 0.850267 0.628520\n",
      "color change rgb 23 0.536185 0.775401 0.619251\n",
      "color change rgb 24 0.406417 0.700535 0.609982\n",
      "color change rgb 25 0.276649 0.625668 0.600713\n",
      "color change rgb 26 0.192513 0.550446 0.557932\n",
      "color change rgb 27 0.154011 0.474866 0.481640\n",
      "color change rgb 28 0.115508 0.399287 0.405348\n",
      "color change rgb 29 0.077005 0.323708 0.329055\n",
      "color change rgb 30 0.038503 0.248128 0.252763\n",
      "color change rgb 31 0.000000 0.172549 0.176471\n"
     ]
    }
   ],
   "source": [
    "for idx in range(23):\n",
    "    print(\n",
    "        f\"color change rgb {idx+9} {chr_colors[idx][0]:.6f} {chr_colors[idx][1]:.6f} {chr_colors[idx][2]:.6f}\"\n",
    "    )"
   ]
  },
  {
   "cell_type": "code",
   "execution_count": 108,
   "metadata": {},
   "outputs": [
    {
     "data": {
      "text/plain": [
       "array([255.,  20., 147., 204.])"
      ]
     },
     "execution_count": 108,
     "metadata": {},
     "output_type": "execute_result"
    }
   ],
   "source": [
    "np.array(\n",
    "    [\n",
    "        1.0,\n",
    "        0.0784313725490196,\n",
    "        0.5764705882352941,\n",
    "        0.8,\n",
    "    ]\n",
    ") * 255"
   ]
  }
 ],
 "metadata": {
  "kernelspec": {
   "display_name": "base",
   "language": "python",
   "name": "python3"
  },
  "language_info": {
   "codemirror_mode": {
    "name": "ipython",
    "version": 3
   },
   "file_extension": ".py",
   "mimetype": "text/x-python",
   "name": "python",
   "nbconvert_exporter": "python",
   "pygments_lexer": "ipython3",
   "version": "3.1.0"
  }
 },
 "nbformat": 4,
 "nbformat_minor": 2
}
